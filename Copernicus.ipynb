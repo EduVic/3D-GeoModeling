{
 "cells": [
  {
   "cell_type": "markdown",
   "id": "62667a62",
   "metadata": {},
   "source": [
    "# The use of Copernicus for calculating elevations"
   ]
  },
  {
   "cell_type": "markdown",
   "id": "86af5abb",
   "metadata": {},
   "source": [
    "In this notebook we will explain how to use the copernicus and utm packages to calculate elevations.\n",
    "\n",
    "The copernico module is in the main directory and instalation is not require.\n",
    "\n",
    "To install pandas and utm package use pip or conda. Then import the packages."
   ]
  },
  {
   "cell_type": "code",
   "execution_count": 1,
   "id": "1dee7e39",
   "metadata": {},
   "outputs": [],
   "source": [
    "from copernico import *\n",
    "import utm\n",
    "import pandas as pd"
   ]
  },
  {
   "cell_type": "markdown",
   "id": "77842ddb",
   "metadata": {},
   "source": [
    "## The data for geological contacts"
   ]
  },
  {
   "cell_type": "markdown",
   "id": "249219ea",
   "metadata": {},
   "source": [
    "Normally the starting point will be a track traced with Google Earth pro and that we save as a kml file. Using the  online tool GpsVisualizer we will transform this kml file into a cvs file that will contain a list with the longitudes and latitudes of the track points."
   ]
  },
  {
   "cell_type": "markdown",
   "id": "a8e595f7",
   "metadata": {},
   "source": [
    "All geological data is in the data folder of the GitHub repository https://github.com/bullejos/A-model-of-a-geological-structure-in-SE-Spain. Download them to be able to use them locally. Then set the data directory"
   ]
  },
  {
   "cell_type": "code",
   "execution_count": 2,
   "id": "02aa2f65",
   "metadata": {},
   "outputs": [],
   "source": [
    "DATADIR='data/' # Directory with the data"
   ]
  },
  {
   "cell_type": "markdown",
   "id": "2fc44bc6",
   "metadata": {},
   "source": [
    "Let us process the data in Calvillo thrust as an example. First we read the csv file with the longitude and latitude data. "
   ]
  },
  {
   "cell_type": "code",
   "execution_count": 3,
   "id": "af322c3b",
   "metadata": {},
   "outputs": [],
   "source": [
    "Calvillo=pd.read_csv(DATADIR+'calvilllolatlong.csv')"
   ]
  },
  {
   "cell_type": "code",
   "execution_count": 4,
   "id": "483090ab",
   "metadata": {
    "scrolled": true
   },
   "outputs": [
    {
     "data": {
      "text/html": [
       "<div>\n",
       "<style scoped>\n",
       "    .dataframe tbody tr th:only-of-type {\n",
       "        vertical-align: middle;\n",
       "    }\n",
       "\n",
       "    .dataframe tbody tr th {\n",
       "        vertical-align: top;\n",
       "    }\n",
       "\n",
       "    .dataframe thead th {\n",
       "        text-align: right;\n",
       "    }\n",
       "</style>\n",
       "<table border=\"1\" class=\"dataframe\">\n",
       "  <thead>\n",
       "    <tr style=\"text-align: right;\">\n",
       "      <th></th>\n",
       "      <th>latitude</th>\n",
       "      <th>longitude</th>\n",
       "    </tr>\n",
       "  </thead>\n",
       "  <tbody>\n",
       "    <tr>\n",
       "      <th>0</th>\n",
       "      <td>37.907449</td>\n",
       "      <td>-1.651335</td>\n",
       "    </tr>\n",
       "    <tr>\n",
       "      <th>1</th>\n",
       "      <td>37.908717</td>\n",
       "      <td>-1.650103</td>\n",
       "    </tr>\n",
       "    <tr>\n",
       "      <th>2</th>\n",
       "      <td>37.910068</td>\n",
       "      <td>-1.648134</td>\n",
       "    </tr>\n",
       "    <tr>\n",
       "      <th>3</th>\n",
       "      <td>37.911150</td>\n",
       "      <td>-1.646029</td>\n",
       "    </tr>\n",
       "    <tr>\n",
       "      <th>4</th>\n",
       "      <td>37.912001</td>\n",
       "      <td>-1.642758</td>\n",
       "    </tr>\n",
       "    <tr>\n",
       "      <th>5</th>\n",
       "      <td>37.912638</td>\n",
       "      <td>-1.639450</td>\n",
       "    </tr>\n",
       "    <tr>\n",
       "      <th>6</th>\n",
       "      <td>37.912342</td>\n",
       "      <td>-1.636916</td>\n",
       "    </tr>\n",
       "    <tr>\n",
       "      <th>7</th>\n",
       "      <td>37.911282</td>\n",
       "      <td>-1.635216</td>\n",
       "    </tr>\n",
       "    <tr>\n",
       "      <th>8</th>\n",
       "      <td>37.910459</td>\n",
       "      <td>-1.634195</td>\n",
       "    </tr>\n",
       "    <tr>\n",
       "      <th>9</th>\n",
       "      <td>37.909959</td>\n",
       "      <td>-1.633000</td>\n",
       "    </tr>\n",
       "    <tr>\n",
       "      <th>10</th>\n",
       "      <td>37.909539</td>\n",
       "      <td>-1.631995</td>\n",
       "    </tr>\n",
       "  </tbody>\n",
       "</table>\n",
       "</div>"
      ],
      "text/plain": [
       "     latitude  longitude\n",
       "0   37.907449  -1.651335\n",
       "1   37.908717  -1.650103\n",
       "2   37.910068  -1.648134\n",
       "3   37.911150  -1.646029\n",
       "4   37.912001  -1.642758\n",
       "5   37.912638  -1.639450\n",
       "6   37.912342  -1.636916\n",
       "7   37.911282  -1.635216\n",
       "8   37.910459  -1.634195\n",
       "9   37.909959  -1.633000\n",
       "10  37.909539  -1.631995"
      ]
     },
     "execution_count": 4,
     "metadata": {},
     "output_type": "execute_result"
    }
   ],
   "source": [
    "Calvillo"
   ]
  },
  {
   "cell_type": "markdown",
   "id": "9d8e8b92",
   "metadata": {},
   "source": [
    "Using the utm module calculate UTM coordinates from latitude and longitude"
   ]
  },
  {
   "cell_type": "code",
   "execution_count": 5,
   "id": "bc2c2571",
   "metadata": {},
   "outputs": [],
   "source": [
    "UTM_X=[utm.from_latlon(Calvillo.latitude[i],Calvillo.longitude[i])[0] for i in range(len(Calvillo.latitude))]\n",
    "UTM_Y=[utm.from_latlon(Calvillo.latitude[i],Calvillo.longitude[i])[1] for i in range(len(Calvillo.latitude))]"
   ]
  },
  {
   "cell_type": "markdown",
   "id": "64f4f853",
   "metadata": {},
   "source": [
    "and add to Calvillo data frame"
   ]
  },
  {
   "cell_type": "code",
   "execution_count": 6,
   "id": "bfe73b5a",
   "metadata": {},
   "outputs": [],
   "source": [
    "Calvillo['UTM_X'] = UTM_X\n",
    "Calvillo['UTM_Y'] = UTM_Y"
   ]
  },
  {
   "cell_type": "code",
   "execution_count": 7,
   "id": "cccd2ea2",
   "metadata": {},
   "outputs": [
    {
     "data": {
      "text/html": [
       "<div>\n",
       "<style scoped>\n",
       "    .dataframe tbody tr th:only-of-type {\n",
       "        vertical-align: middle;\n",
       "    }\n",
       "\n",
       "    .dataframe tbody tr th {\n",
       "        vertical-align: top;\n",
       "    }\n",
       "\n",
       "    .dataframe thead th {\n",
       "        text-align: right;\n",
       "    }\n",
       "</style>\n",
       "<table border=\"1\" class=\"dataframe\">\n",
       "  <thead>\n",
       "    <tr style=\"text-align: right;\">\n",
       "      <th></th>\n",
       "      <th>latitude</th>\n",
       "      <th>longitude</th>\n",
       "      <th>UTM_X</th>\n",
       "      <th>UTM_Y</th>\n",
       "    </tr>\n",
       "  </thead>\n",
       "  <tbody>\n",
       "    <tr>\n",
       "      <th>0</th>\n",
       "      <td>37.907449</td>\n",
       "      <td>-1.651335</td>\n",
       "      <td>618560.575994</td>\n",
       "      <td>4.196404e+06</td>\n",
       "    </tr>\n",
       "    <tr>\n",
       "      <th>1</th>\n",
       "      <td>37.908717</td>\n",
       "      <td>-1.650103</td>\n",
       "      <td>618666.855243</td>\n",
       "      <td>4.196546e+06</td>\n",
       "    </tr>\n",
       "    <tr>\n",
       "      <th>2</th>\n",
       "      <td>37.910068</td>\n",
       "      <td>-1.648134</td>\n",
       "      <td>618837.707422</td>\n",
       "      <td>4.196698e+06</td>\n",
       "    </tr>\n",
       "    <tr>\n",
       "      <th>3</th>\n",
       "      <td>37.911150</td>\n",
       "      <td>-1.646029</td>\n",
       "      <td>619021.015683</td>\n",
       "      <td>4.196821e+06</td>\n",
       "    </tr>\n",
       "    <tr>\n",
       "      <th>4</th>\n",
       "      <td>37.912001</td>\n",
       "      <td>-1.642758</td>\n",
       "      <td>619307.213213</td>\n",
       "      <td>4.196920e+06</td>\n",
       "    </tr>\n",
       "    <tr>\n",
       "      <th>5</th>\n",
       "      <td>37.912638</td>\n",
       "      <td>-1.639450</td>\n",
       "      <td>619596.990114</td>\n",
       "      <td>4.196995e+06</td>\n",
       "    </tr>\n",
       "    <tr>\n",
       "      <th>6</th>\n",
       "      <td>37.912342</td>\n",
       "      <td>-1.636916</td>\n",
       "      <td>619820.259708</td>\n",
       "      <td>4.196965e+06</td>\n",
       "    </tr>\n",
       "    <tr>\n",
       "      <th>7</th>\n",
       "      <td>37.911282</td>\n",
       "      <td>-1.635216</td>\n",
       "      <td>619971.392309</td>\n",
       "      <td>4.196850e+06</td>\n",
       "    </tr>\n",
       "    <tr>\n",
       "      <th>8</th>\n",
       "      <td>37.910459</td>\n",
       "      <td>-1.634195</td>\n",
       "      <td>620062.467490</td>\n",
       "      <td>4.196760e+06</td>\n",
       "    </tr>\n",
       "    <tr>\n",
       "      <th>9</th>\n",
       "      <td>37.909959</td>\n",
       "      <td>-1.633000</td>\n",
       "      <td>620168.377103</td>\n",
       "      <td>4.196706e+06</td>\n",
       "    </tr>\n",
       "    <tr>\n",
       "      <th>10</th>\n",
       "      <td>37.909539</td>\n",
       "      <td>-1.631995</td>\n",
       "      <td>620257.384416</td>\n",
       "      <td>4.196660e+06</td>\n",
       "    </tr>\n",
       "  </tbody>\n",
       "</table>\n",
       "</div>"
      ],
      "text/plain": [
       "     latitude  longitude          UTM_X         UTM_Y\n",
       "0   37.907449  -1.651335  618560.575994  4.196404e+06\n",
       "1   37.908717  -1.650103  618666.855243  4.196546e+06\n",
       "2   37.910068  -1.648134  618837.707422  4.196698e+06\n",
       "3   37.911150  -1.646029  619021.015683  4.196821e+06\n",
       "4   37.912001  -1.642758  619307.213213  4.196920e+06\n",
       "5   37.912638  -1.639450  619596.990114  4.196995e+06\n",
       "6   37.912342  -1.636916  619820.259708  4.196965e+06\n",
       "7   37.911282  -1.635216  619971.392309  4.196850e+06\n",
       "8   37.910459  -1.634195  620062.467490  4.196760e+06\n",
       "9   37.909959  -1.633000  620168.377103  4.196706e+06\n",
       "10  37.909539  -1.631995  620257.384416  4.196660e+06"
      ]
     },
     "execution_count": 7,
     "metadata": {},
     "output_type": "execute_result"
    }
   ],
   "source": [
    "Calvillo"
   ]
  },
  {
   "cell_type": "markdown",
   "id": "eb84f4fb",
   "metadata": {},
   "source": [
    "We download the DEM data from https://spacedata.copernicus.eu/es/collections/copernicus-digital-elevation-model and save the `eu_dem_v11_E30N10.TIF` file in the `data` folder. Then we set copernicus raster path"
   ]
  },
  {
   "cell_type": "code",
   "execution_count": 8,
   "id": "354e9b6d",
   "metadata": {},
   "outputs": [],
   "source": [
    "copernicus = CopernicusDEM(raster_paths=[DATADIR+'eu_dem_v11_E30N10.TIF'])"
   ]
  },
  {
   "cell_type": "markdown",
   "id": "6caace99",
   "metadata": {},
   "source": [
    "and now we add the elevations"
   ]
  },
  {
   "cell_type": "code",
   "execution_count": 9,
   "id": "f477fda0",
   "metadata": {},
   "outputs": [],
   "source": [
    "Calvillo=copernicus.get_elevation(Calvillo, lat_col='latitude', lon_col='longitude')"
   ]
  },
  {
   "cell_type": "code",
   "execution_count": 10,
   "id": "8c9ec236",
   "metadata": {
    "scrolled": true
   },
   "outputs": [
    {
     "data": {
      "text/html": [
       "<div>\n",
       "<style scoped>\n",
       "    .dataframe tbody tr th:only-of-type {\n",
       "        vertical-align: middle;\n",
       "    }\n",
       "\n",
       "    .dataframe tbody tr th {\n",
       "        vertical-align: top;\n",
       "    }\n",
       "\n",
       "    .dataframe thead th {\n",
       "        text-align: right;\n",
       "    }\n",
       "</style>\n",
       "<table border=\"1\" class=\"dataframe\">\n",
       "  <thead>\n",
       "    <tr style=\"text-align: right;\">\n",
       "      <th></th>\n",
       "      <th>latitude</th>\n",
       "      <th>longitude</th>\n",
       "      <th>UTM_X</th>\n",
       "      <th>UTM_Y</th>\n",
       "      <th>elevation</th>\n",
       "    </tr>\n",
       "  </thead>\n",
       "  <tbody>\n",
       "    <tr>\n",
       "      <th>0</th>\n",
       "      <td>37.907449</td>\n",
       "      <td>-1.651335</td>\n",
       "      <td>618560.575994</td>\n",
       "      <td>4.196404e+06</td>\n",
       "      <td>766.682800</td>\n",
       "    </tr>\n",
       "    <tr>\n",
       "      <th>1</th>\n",
       "      <td>37.908717</td>\n",
       "      <td>-1.650103</td>\n",
       "      <td>618666.855243</td>\n",
       "      <td>4.196546e+06</td>\n",
       "      <td>760.528687</td>\n",
       "    </tr>\n",
       "    <tr>\n",
       "      <th>2</th>\n",
       "      <td>37.910068</td>\n",
       "      <td>-1.648134</td>\n",
       "      <td>618837.707422</td>\n",
       "      <td>4.196698e+06</td>\n",
       "      <td>776.329407</td>\n",
       "    </tr>\n",
       "    <tr>\n",
       "      <th>3</th>\n",
       "      <td>37.911150</td>\n",
       "      <td>-1.646029</td>\n",
       "      <td>619021.015683</td>\n",
       "      <td>4.196821e+06</td>\n",
       "      <td>763.391174</td>\n",
       "    </tr>\n",
       "    <tr>\n",
       "      <th>4</th>\n",
       "      <td>37.912001</td>\n",
       "      <td>-1.642758</td>\n",
       "      <td>619307.213213</td>\n",
       "      <td>4.196920e+06</td>\n",
       "      <td>678.373352</td>\n",
       "    </tr>\n",
       "    <tr>\n",
       "      <th>5</th>\n",
       "      <td>37.912638</td>\n",
       "      <td>-1.639450</td>\n",
       "      <td>619596.990114</td>\n",
       "      <td>4.196995e+06</td>\n",
       "      <td>649.560730</td>\n",
       "    </tr>\n",
       "    <tr>\n",
       "      <th>6</th>\n",
       "      <td>37.912342</td>\n",
       "      <td>-1.636916</td>\n",
       "      <td>619820.259708</td>\n",
       "      <td>4.196965e+06</td>\n",
       "      <td>616.614746</td>\n",
       "    </tr>\n",
       "    <tr>\n",
       "      <th>7</th>\n",
       "      <td>37.911282</td>\n",
       "      <td>-1.635216</td>\n",
       "      <td>619971.392309</td>\n",
       "      <td>4.196850e+06</td>\n",
       "      <td>604.218079</td>\n",
       "    </tr>\n",
       "    <tr>\n",
       "      <th>8</th>\n",
       "      <td>37.910459</td>\n",
       "      <td>-1.634195</td>\n",
       "      <td>620062.467490</td>\n",
       "      <td>4.196760e+06</td>\n",
       "      <td>591.135071</td>\n",
       "    </tr>\n",
       "    <tr>\n",
       "      <th>9</th>\n",
       "      <td>37.909959</td>\n",
       "      <td>-1.633000</td>\n",
       "      <td>620168.377103</td>\n",
       "      <td>4.196706e+06</td>\n",
       "      <td>591.308960</td>\n",
       "    </tr>\n",
       "    <tr>\n",
       "      <th>10</th>\n",
       "      <td>37.909539</td>\n",
       "      <td>-1.631995</td>\n",
       "      <td>620257.384416</td>\n",
       "      <td>4.196660e+06</td>\n",
       "      <td>628.067017</td>\n",
       "    </tr>\n",
       "  </tbody>\n",
       "</table>\n",
       "</div>"
      ],
      "text/plain": [
       "     latitude  longitude          UTM_X         UTM_Y   elevation\n",
       "0   37.907449  -1.651335  618560.575994  4.196404e+06  766.682800\n",
       "1   37.908717  -1.650103  618666.855243  4.196546e+06  760.528687\n",
       "2   37.910068  -1.648134  618837.707422  4.196698e+06  776.329407\n",
       "3   37.911150  -1.646029  619021.015683  4.196821e+06  763.391174\n",
       "4   37.912001  -1.642758  619307.213213  4.196920e+06  678.373352\n",
       "5   37.912638  -1.639450  619596.990114  4.196995e+06  649.560730\n",
       "6   37.912342  -1.636916  619820.259708  4.196965e+06  616.614746\n",
       "7   37.911282  -1.635216  619971.392309  4.196850e+06  604.218079\n",
       "8   37.910459  -1.634195  620062.467490  4.196760e+06  591.135071\n",
       "9   37.909959  -1.633000  620168.377103  4.196706e+06  591.308960\n",
       "10  37.909539  -1.631995  620257.384416  4.196660e+06  628.067017"
      ]
     },
     "execution_count": 10,
     "metadata": {},
     "output_type": "execute_result"
    }
   ],
   "source": [
    "Calvillo"
   ]
  },
  {
   "cell_type": "markdown",
   "id": "a278a56b",
   "metadata": {},
   "source": [
    "Finally we save the data frame with the utm coordinates together with the elevation in a csv file"
   ]
  },
  {
   "cell_type": "code",
   "execution_count": 11,
   "id": "79e149f0",
   "metadata": {},
   "outputs": [],
   "source": [
    "Calvillo.to_csv(DATADIR+'Calvillo.csv')"
   ]
  },
  {
   "cell_type": "markdown",
   "id": "9c69017a",
   "metadata": {},
   "source": [
    "We repeat this process with all the tracks related to the geological elements."
   ]
  },
  {
   "cell_type": "markdown",
   "id": "6a3d1ad0",
   "metadata": {},
   "source": [
    "## The data for the topography"
   ]
  },
  {
   "cell_type": "markdown",
   "id": "987b2771",
   "metadata": {},
   "source": [
    "To get the topography of the study area, the first step is to establish a grid that covers the zone."
   ]
  },
  {
   "cell_type": "code",
   "execution_count": 12,
   "id": "2ba35810",
   "metadata": {},
   "outputs": [],
   "source": [
    "x = np.linspace(618283,621370, 201)\n",
    "y = np.linspace(4194756,4197687, 201)\n",
    "xx, yy = np.meshgrid(x, y)\n",
    "xyz=[]\n",
    "for i in range(201):\n",
    "    for j in range(201):\n",
    "        xyz=xyz+[(x[i],y[j],300)]\n",
    "cx=[xyz[i][0] for i in range(len(xyz))]\n",
    "cy=[xyz[i][1] for i in range(len(xyz))]"
   ]
  },
  {
   "cell_type": "markdown",
   "id": "94bf2917",
   "metadata": {},
   "source": [
    "Calculate latitude and longitude"
   ]
  },
  {
   "cell_type": "code",
   "execution_count": 13,
   "id": "59edd214",
   "metadata": {},
   "outputs": [],
   "source": [
    "latlon=[utm.to_latlon(cx[i],cy[i], 30, 'T') for i in range(len(cx)) ]\n",
    "lat=[x[0] for x in latlon]\n",
    "lon=[x[1] for x in latlon]\n"
   ]
  },
  {
   "cell_type": "code",
   "execution_count": 14,
   "id": "5a89c349",
   "metadata": {},
   "outputs": [],
   "source": [
    "aux=[[cx[i],cy[i],lat[i],lon[i]] for i in range(len(cx))]"
   ]
  },
  {
   "cell_type": "markdown",
   "id": "780d913d",
   "metadata": {},
   "source": [
    "Create a data frame"
   ]
  },
  {
   "cell_type": "code",
   "execution_count": 15,
   "id": "6d21ac9c",
   "metadata": {},
   "outputs": [],
   "source": [
    "topography=pd.DataFrame(aux,columns = ['UTM_X','UTM_Y','latitude','longitude'])"
   ]
  },
  {
   "cell_type": "code",
   "execution_count": 16,
   "id": "c496c60e",
   "metadata": {
    "scrolled": true
   },
   "outputs": [
    {
     "data": {
      "text/html": [
       "<div>\n",
       "<style scoped>\n",
       "    .dataframe tbody tr th:only-of-type {\n",
       "        vertical-align: middle;\n",
       "    }\n",
       "\n",
       "    .dataframe tbody tr th {\n",
       "        vertical-align: top;\n",
       "    }\n",
       "\n",
       "    .dataframe thead th {\n",
       "        text-align: right;\n",
       "    }\n",
       "</style>\n",
       "<table border=\"1\" class=\"dataframe\">\n",
       "  <thead>\n",
       "    <tr style=\"text-align: right;\">\n",
       "      <th></th>\n",
       "      <th>UTM_X</th>\n",
       "      <th>UTM_Y</th>\n",
       "      <th>latitude</th>\n",
       "      <th>longitude</th>\n",
       "    </tr>\n",
       "  </thead>\n",
       "  <tbody>\n",
       "    <tr>\n",
       "      <th>0</th>\n",
       "      <td>618283.0</td>\n",
       "      <td>4194756.000</td>\n",
       "      <td>37.892638</td>\n",
       "      <td>-1.654762</td>\n",
       "    </tr>\n",
       "    <tr>\n",
       "      <th>1</th>\n",
       "      <td>618283.0</td>\n",
       "      <td>4194770.655</td>\n",
       "      <td>37.892770</td>\n",
       "      <td>-1.654759</td>\n",
       "    </tr>\n",
       "    <tr>\n",
       "      <th>2</th>\n",
       "      <td>618283.0</td>\n",
       "      <td>4194785.310</td>\n",
       "      <td>37.892902</td>\n",
       "      <td>-1.654757</td>\n",
       "    </tr>\n",
       "    <tr>\n",
       "      <th>3</th>\n",
       "      <td>618283.0</td>\n",
       "      <td>4194799.965</td>\n",
       "      <td>37.893034</td>\n",
       "      <td>-1.654755</td>\n",
       "    </tr>\n",
       "    <tr>\n",
       "      <th>4</th>\n",
       "      <td>618283.0</td>\n",
       "      <td>4194814.620</td>\n",
       "      <td>37.893166</td>\n",
       "      <td>-1.654752</td>\n",
       "    </tr>\n",
       "    <tr>\n",
       "      <th>...</th>\n",
       "      <td>...</td>\n",
       "      <td>...</td>\n",
       "      <td>...</td>\n",
       "      <td>...</td>\n",
       "    </tr>\n",
       "    <tr>\n",
       "      <th>40396</th>\n",
       "      <td>621370.0</td>\n",
       "      <td>4197628.380</td>\n",
       "      <td>37.918113</td>\n",
       "      <td>-1.619179</td>\n",
       "    </tr>\n",
       "    <tr>\n",
       "      <th>40397</th>\n",
       "      <td>621370.0</td>\n",
       "      <td>4197643.035</td>\n",
       "      <td>37.918245</td>\n",
       "      <td>-1.619176</td>\n",
       "    </tr>\n",
       "    <tr>\n",
       "      <th>40398</th>\n",
       "      <td>621370.0</td>\n",
       "      <td>4197657.690</td>\n",
       "      <td>37.918377</td>\n",
       "      <td>-1.619174</td>\n",
       "    </tr>\n",
       "    <tr>\n",
       "      <th>40399</th>\n",
       "      <td>621370.0</td>\n",
       "      <td>4197672.345</td>\n",
       "      <td>37.918509</td>\n",
       "      <td>-1.619171</td>\n",
       "    </tr>\n",
       "    <tr>\n",
       "      <th>40400</th>\n",
       "      <td>621370.0</td>\n",
       "      <td>4197687.000</td>\n",
       "      <td>37.918641</td>\n",
       "      <td>-1.619169</td>\n",
       "    </tr>\n",
       "  </tbody>\n",
       "</table>\n",
       "<p>40401 rows × 4 columns</p>\n",
       "</div>"
      ],
      "text/plain": [
       "          UTM_X        UTM_Y   latitude  longitude\n",
       "0      618283.0  4194756.000  37.892638  -1.654762\n",
       "1      618283.0  4194770.655  37.892770  -1.654759\n",
       "2      618283.0  4194785.310  37.892902  -1.654757\n",
       "3      618283.0  4194799.965  37.893034  -1.654755\n",
       "4      618283.0  4194814.620  37.893166  -1.654752\n",
       "...         ...          ...        ...        ...\n",
       "40396  621370.0  4197628.380  37.918113  -1.619179\n",
       "40397  621370.0  4197643.035  37.918245  -1.619176\n",
       "40398  621370.0  4197657.690  37.918377  -1.619174\n",
       "40399  621370.0  4197672.345  37.918509  -1.619171\n",
       "40400  621370.0  4197687.000  37.918641  -1.619169\n",
       "\n",
       "[40401 rows x 4 columns]"
      ]
     },
     "execution_count": 16,
     "metadata": {},
     "output_type": "execute_result"
    }
   ],
   "source": [
    "topography"
   ]
  },
  {
   "cell_type": "markdown",
   "id": "e038786e",
   "metadata": {},
   "source": [
    "Add elevations"
   ]
  },
  {
   "cell_type": "code",
   "execution_count": 17,
   "id": "b1265467",
   "metadata": {},
   "outputs": [],
   "source": [
    "topography=copernicus.get_elevation(topography, lat_col='latitude', lon_col='longitude')"
   ]
  },
  {
   "cell_type": "code",
   "execution_count": 18,
   "id": "96450c50",
   "metadata": {},
   "outputs": [
    {
     "data": {
      "text/html": [
       "<div>\n",
       "<style scoped>\n",
       "    .dataframe tbody tr th:only-of-type {\n",
       "        vertical-align: middle;\n",
       "    }\n",
       "\n",
       "    .dataframe tbody tr th {\n",
       "        vertical-align: top;\n",
       "    }\n",
       "\n",
       "    .dataframe thead th {\n",
       "        text-align: right;\n",
       "    }\n",
       "</style>\n",
       "<table border=\"1\" class=\"dataframe\">\n",
       "  <thead>\n",
       "    <tr style=\"text-align: right;\">\n",
       "      <th></th>\n",
       "      <th>UTM_X</th>\n",
       "      <th>UTM_Y</th>\n",
       "      <th>latitude</th>\n",
       "      <th>longitude</th>\n",
       "      <th>elevation</th>\n",
       "    </tr>\n",
       "  </thead>\n",
       "  <tbody>\n",
       "    <tr>\n",
       "      <th>0</th>\n",
       "      <td>618283.0</td>\n",
       "      <td>4194756.000</td>\n",
       "      <td>37.892638</td>\n",
       "      <td>-1.654762</td>\n",
       "      <td>664.127502</td>\n",
       "    </tr>\n",
       "    <tr>\n",
       "      <th>1</th>\n",
       "      <td>618283.0</td>\n",
       "      <td>4194770.655</td>\n",
       "      <td>37.892770</td>\n",
       "      <td>-1.654759</td>\n",
       "      <td>664.127502</td>\n",
       "    </tr>\n",
       "    <tr>\n",
       "      <th>2</th>\n",
       "      <td>618283.0</td>\n",
       "      <td>4194785.310</td>\n",
       "      <td>37.892902</td>\n",
       "      <td>-1.654757</td>\n",
       "      <td>665.267944</td>\n",
       "    </tr>\n",
       "    <tr>\n",
       "      <th>3</th>\n",
       "      <td>618283.0</td>\n",
       "      <td>4194799.965</td>\n",
       "      <td>37.893034</td>\n",
       "      <td>-1.654755</td>\n",
       "      <td>665.267944</td>\n",
       "    </tr>\n",
       "    <tr>\n",
       "      <th>4</th>\n",
       "      <td>618283.0</td>\n",
       "      <td>4194814.620</td>\n",
       "      <td>37.893166</td>\n",
       "      <td>-1.654752</td>\n",
       "      <td>665.978516</td>\n",
       "    </tr>\n",
       "    <tr>\n",
       "      <th>...</th>\n",
       "      <td>...</td>\n",
       "      <td>...</td>\n",
       "      <td>...</td>\n",
       "      <td>...</td>\n",
       "      <td>...</td>\n",
       "    </tr>\n",
       "    <tr>\n",
       "      <th>40396</th>\n",
       "      <td>621370.0</td>\n",
       "      <td>4197628.380</td>\n",
       "      <td>37.918113</td>\n",
       "      <td>-1.619179</td>\n",
       "      <td>546.053406</td>\n",
       "    </tr>\n",
       "    <tr>\n",
       "      <th>40397</th>\n",
       "      <td>621370.0</td>\n",
       "      <td>4197643.035</td>\n",
       "      <td>37.918245</td>\n",
       "      <td>-1.619176</td>\n",
       "      <td>543.752502</td>\n",
       "    </tr>\n",
       "    <tr>\n",
       "      <th>40398</th>\n",
       "      <td>621370.0</td>\n",
       "      <td>4197657.690</td>\n",
       "      <td>37.918377</td>\n",
       "      <td>-1.619174</td>\n",
       "      <td>543.752502</td>\n",
       "    </tr>\n",
       "    <tr>\n",
       "      <th>40399</th>\n",
       "      <td>621370.0</td>\n",
       "      <td>4197672.345</td>\n",
       "      <td>37.918509</td>\n",
       "      <td>-1.619171</td>\n",
       "      <td>541.538391</td>\n",
       "    </tr>\n",
       "    <tr>\n",
       "      <th>40400</th>\n",
       "      <td>621370.0</td>\n",
       "      <td>4197687.000</td>\n",
       "      <td>37.918641</td>\n",
       "      <td>-1.619169</td>\n",
       "      <td>541.538391</td>\n",
       "    </tr>\n",
       "  </tbody>\n",
       "</table>\n",
       "<p>40401 rows × 5 columns</p>\n",
       "</div>"
      ],
      "text/plain": [
       "          UTM_X        UTM_Y   latitude  longitude   elevation\n",
       "0      618283.0  4194756.000  37.892638  -1.654762  664.127502\n",
       "1      618283.0  4194770.655  37.892770  -1.654759  664.127502\n",
       "2      618283.0  4194785.310  37.892902  -1.654757  665.267944\n",
       "3      618283.0  4194799.965  37.893034  -1.654755  665.267944\n",
       "4      618283.0  4194814.620  37.893166  -1.654752  665.978516\n",
       "...         ...          ...        ...        ...         ...\n",
       "40396  621370.0  4197628.380  37.918113  -1.619179  546.053406\n",
       "40397  621370.0  4197643.035  37.918245  -1.619176  543.752502\n",
       "40398  621370.0  4197657.690  37.918377  -1.619174  543.752502\n",
       "40399  621370.0  4197672.345  37.918509  -1.619171  541.538391\n",
       "40400  621370.0  4197687.000  37.918641  -1.619169  541.538391\n",
       "\n",
       "[40401 rows x 5 columns]"
      ]
     },
     "execution_count": 18,
     "metadata": {},
     "output_type": "execute_result"
    }
   ],
   "source": [
    "topography"
   ]
  },
  {
   "cell_type": "markdown",
   "id": "283d0714",
   "metadata": {},
   "source": [
    "Save the data frame with UTM and elevations coordinates to a csv file "
   ]
  },
  {
   "cell_type": "code",
   "execution_count": 19,
   "id": "3416eeaf",
   "metadata": {},
   "outputs": [],
   "source": [
    "topography.to_csv(DATADIR+'Topography.csv')"
   ]
  }
 ],
 "metadata": {
  "kernelspec": {
   "display_name": "Python 3 (ipykernel)",
   "language": "python",
   "name": "python3"
  },
  "language_info": {
   "codemirror_mode": {
    "name": "ipython",
    "version": 3
   },
   "file_extension": ".py",
   "mimetype": "text/x-python",
   "name": "python",
   "nbconvert_exporter": "python",
   "pygments_lexer": "ipython3",
   "version": "3.9.12"
  }
 },
 "nbformat": 4,
 "nbformat_minor": 5
}
